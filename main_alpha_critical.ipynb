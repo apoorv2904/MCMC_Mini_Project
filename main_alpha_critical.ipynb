{
 "cells": [
  {
   "cell_type": "markdown",
   "metadata": {},
   "source": [
    "# Plot critical values of alpha for different n"
   ]
  },
  {
   "cell_type": "markdown",
   "metadata": {},
   "source": [
    "Limiting value $\\alpha_{rdm}$: alpha for which the algorithm does not perform better than chance (mean error plus one standard deviation are $\\ge 0.45$ ) <br/>\n",
    "Critical value $\\alpha_c$: alpha for which the performance is suddenly almost perfect (mean error plus one standard deviation $\\le 0.10$). "
   ]
  },
  {
   "cell_type": "code",
   "execution_count": null,
   "metadata": {},
   "outputs": [],
   "source": [
    "\n",
    "from utils import *\n",
    "from annealing_schedules import *\n",
    "from mcmc import *\n",
    "from experiments import *\n",
    "\n",
    "import pickle as cPickle"
   ]
  },
  {
   "cell_type": "markdown",
   "metadata": {},
   "source": [
    "### Run 10 experiments with Metropolis Hasting (constant $\\beta=4.0$, $N=60k$) for each combination of $n \\in [10,150]$ and $\\alpha \\in [0.05,1.5]$"
   ]
  },
  {
   "cell_type": "code",
   "execution_count": null,
   "metadata": {},
   "outputs": [],
   "source": [
    "import time\n",
    "\n",
    "start = time.time()\n",
    "\n",
    "# Final and minimum error for a few different alphas.\n",
    "n_vector = [10, 20, 30, 40, 50, 60, 70, 80, 90, 100, 110, 120, 130, 140, 150]\n",
    "alphas = np.linspace(0.05, 1.5, 24)\n",
    "N = 60000\n",
    "n_exp = 10\n",
    "\n",
    "beta_0 = 4.0\n",
    "\n",
    "schedule = ConstantSchedule(beta_0)\n",
    "b_v = schedule.get_schedule(N)\n",
    "\n",
    "\n",
    "exps = defaultdict(defaultdict)\n",
    "alpha_rdms_vec = defaultdict(defaultdict)\n",
    "alpha_cs_vec = defaultdict(defaultdict)\n",
    "\n",
    "alpha_rdms = defaultdict(defaultdict)\n",
    "alpha_cs = defaultdict(defaultdict)\n",
    "\n",
    "for n in n_vector:\n",
    "    exps[n] = MultiExperiments(n, alphas, N, b_v, n_exp, MCMC.metropolis, )\n",
    "    alpha_rdms_vec[n] = alphas[ (exps[n].get_stats(\"min_energy_errors\")[0] + exps[n].get_stats(\"min_energy_errors\")[1]) > 0.45 ]\n",
    "    alpha_cs_vec[n] = alphas[ (exps[n].get_stats(\"min_energy_errors\")[0] + exps[n].get_stats(\"min_energy_errors\")[1]) < 0.10 ]\n",
    "    alpha_cs[n] = alpha_cs_vec[n][0]\n",
    "    alpha_rdms[n] = alpha_rdms_vec[n][-1]\n",
    "\n",
    "end = time.time()\n",
    "print(end - start)\n"
   ]
  },
  {
   "cell_type": "markdown",
   "metadata": {},
   "source": [
    "### Save the results"
   ]
  },
  {
   "cell_type": "code",
   "execution_count": null,
   "metadata": {},
   "outputs": [],
   "source": [
    "exp_error_data = defaultdict(defaultdict)\n",
    "exp_parameter_data = defaultdict(defaultdict)\n",
    "\n",
    "for n in n_vector:\n",
    "    exp_error_data[n] = exps[n].get_stats(\"min_energy_errors\")\n",
    "    exp_parameter_data[n] = exps[n].parameters\n",
    "    \n",
    "fpickle = 'critical_alpha_metropolis_beta_4_10_150'\n",
    "\n",
    "save_object = defaultdict(defaultdict)\n",
    "save_object['n_vector'] = n_vector\n",
    "save_object['alphas'] = alphas\n",
    "save_object['N'] = N\n",
    "save_object['n_exp'] = n_exp\n",
    "save_object['b_v'] = b_v\n",
    "save_object['exp_error_data'] = exp_error_data\n",
    "save_object['exp_parameter_data'] = exp_parameter_data\n",
    "save_object['alpha_rdms_vec'] = alpha_rdms_vec\n",
    "save_object['alpha_cs_vec'] = alpha_cs_vec\n",
    "save_object['alpha_rdms'] = alpha_rdms\n",
    "save_object['alpha_cs'] = alpha_cs\n",
    "    \n",
    "file_handler = open(\"%s.pkl\" %(fpickle),\"wb\")\n",
    "cPickle.dump(save_object,file_handler)\n",
    "file_handler.close()\n",
    "\n",
    "    "
   ]
  },
  {
   "cell_type": "markdown",
   "metadata": {},
   "source": [
    "## Critical alpha plot for $n \\in [10,110]$ and $n \\in [10,150]$ "
   ]
  },
  {
   "cell_type": "code",
   "execution_count": null,
   "metadata": {},
   "outputs": [],
   "source": [
    "def plot_critical_alphas(e_vectors, a_rnd_vector, a_c_vector, n_vector,  \n",
    "                   x_axis_vector=None, title=\"\", legend=[], xlabel=\"Time\", fsave='' ):\n",
    "    \"\"\"Plots error over time (or the values in x_axis_vector). Inputs are\n",
    "    lists of vectors to allow comparisons.\"\"\"\n",
    "    if x_axis_vector is None:\n",
    "        x_axis_vector = np.arange(len(e_vectors))\n",
    "    if not legend:\n",
    "        legend = [\" \"] * len(e_vectors)\n",
    "    fig = plt.figure(figsize=(20,10))\n",
    "    ax1 = fig.gca()\n",
    "    plt.hlines([0.1, 0.2, 0.3, 0.4, 0.5], x_axis_vector[0], x_axis_vector[-1],\n",
    "               linestyles=\"--\", color=\"lightgray\")\n",
    "    for i, e_vector in enumerate(e_vectors):\n",
    "        e_vector_std = None\n",
    "        if isinstance(e_vector, tuple):\n",
    "            e_vector_std = e_vector[1]\n",
    "            e_vector = e_vector[0]\n",
    "        plt.errorbar(x_axis_vector, e_vector, yerr=e_vector_std, label=legend[i],\n",
    "                    capthick=2, capsize=3)\n",
    "    plt.title(title)\n",
    "    plt.xlabel(xlabel)\n",
    "    plt.ylabel(\"Error\")\n",
    "    plt.ylim(0, 1)\n",
    "    \n",
    "\n",
    "    ax2 = ax1.twinx()\n",
    "    ax2.plot(a_rnd_vector, n_vector, c='red', ls='--', label='α (random)')\n",
    "    ax2.plot(a_c_vector, n_vector, c='red', ls=':', label='α (critical)')\n",
    "    ax2.set_ylabel('n')\n",
    "\n",
    "    #plt.legend()\n",
    "    fig.legend(loc=1, bbox_to_anchor=(1,1), bbox_transform=ax1.transAxes)\n",
    "    if (len(fsave) > 0):\n",
    "        plt.savefig('%s.pdf' %(fsave))\n",
    "        \n",
    "fpickle = 'critical_alpha_metropolis_beta_4_10_150'\n",
    "\n",
    "file = open(\"%s.pkl\" %(fpickle),\"rb\")\n",
    "save_object = cPickle.load(file)\n",
    "\n",
    "n_vector = save_object['n_vector'] \n",
    "alphas = save_object['alphas'] \n",
    "N = save_object['N'] \n",
    "n_exp = save_object['n_exp'] \n",
    "b_v = save_object['b_v'] \n",
    "exp_error_data = save_object['exp_error_data'] \n",
    "exp_parameter_data = save_object['exp_parameter_data'] \n",
    "alpha_rdms_vec = save_object['alpha_rdms_vec'] \n",
    "alpha_cs_vec = save_object['alpha_cs_vec'] \n",
    "alpha_rdms = save_object['alpha_rdms'] \n",
    "alpha_cs = save_object['alpha_cs'] \n",
    "file.close()\n",
    "\n",
    "a_rnd_v = []\n",
    "a_c_v = []\n",
    "for n in n_vector:\n",
    "    a_c_v.append( alpha_cs[n] )\n",
    "    a_rnd_v.append( alpha_rdms[n] )\n",
    "\n",
    "fsave= 'Plots/critical_alpha_metropolis_beta_4_10_150'\n",
    "fig = plot_critical_alphas([exp_error_data[100]], \n",
    "                           a_rnd_v, a_c_v, n_vector, x_axis_vector=alphas,\n",
    "                           xlabel=\"alpha\", legend=[\"Min. energy error\"], fsave=fsave)\n",
    "\n",
    "\n",
    "\n",
    "a_rnd_v = np.asarray(a_rnd_v)\n",
    "a_c_v = np.asarray(a_c_v)\n",
    "n_vector = np.asarray(n_vector)\n",
    "a_rnd_v = a_rnd_v[ n_vector < 120 ]\n",
    "a_c_v = a_c_v[ n_vector < 120 ]\n",
    "\n",
    "fsave= 'Plots/critical_alpha_metropolis_beta_4_10_110'\n",
    "fig = plot_critical_alphas([exp_error_data[100]], \n",
    "                           a_rnd_v, a_c_v, n_vector[n_vector < 120], x_axis_vector=alphas,\n",
    "                           xlabel=\"alpha\", legend=[\"Min. energy error\"], fsave=fsave)\n",
    "\n"
   ]
  }
 ],
 "metadata": {
  "kernelspec": {
   "display_name": "Python 3",
   "language": "python",
   "name": "python3"
  },
  "language_info": {
   "codemirror_mode": {
    "name": "ipython",
    "version": 3
   },
   "file_extension": ".py",
   "mimetype": "text/x-python",
   "name": "python",
   "nbconvert_exporter": "python",
   "pygments_lexer": "ipython3",
   "version": "3.6.5"
  }
 },
 "nbformat": 4,
 "nbformat_minor": 2
}
