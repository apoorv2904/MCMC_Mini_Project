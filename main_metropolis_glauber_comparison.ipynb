{
 "cells": [
  {
   "cell_type": "markdown",
   "metadata": {},
   "source": [
    "# Importing necessary files"
   ]
  },
  {
   "cell_type": "code",
   "execution_count": null,
   "metadata": {},
   "outputs": [],
   "source": [
    "\n",
    "from utils import *\n",
    "from annealing_schedules import *\n",
    "from mcmc import *\n",
    "from experiments import *\n",
    "\n",
    "import pickle as cPickle"
   ]
  },
  {
   "cell_type": "markdown",
   "metadata": {},
   "source": [
    "# Glauber (constant beta: 2.0) vs Metropolis (constant beta: 4.0)"
   ]
  },
  {
   "cell_type": "code",
   "execution_count": null,
   "metadata": {},
   "outputs": [],
   "source": [
    "# Min. energy error for a few different alphas.\n",
    "n = [100]\n",
    "alphas = np.linspace(0.05, 2, 32)\n",
    "N = 100000\n",
    "n_exp = 10\n",
    "\n",
    "beta_0 = 4.0\n",
    "schedule = ConstantSchedule(beta_0)\n",
    "b_v = schedule.get_schedule(N)\n",
    "\n",
    "exps_M = MultiExperiments(n, alphas, N, b_v, n_exp, MCMC.metropolis )\n",
    "\n",
    "beta_0 = 2.0\n",
    "schedule_G = ConstantSchedule(beta_0)\n",
    "b_v_G = schedule_G.get_schedule(N)\n",
    "\n",
    "exps_G = MultiExperiments(n, alphas, N, b_v_G, n_exp, MCMC.glauber )\n",
    "\n"
   ]
  },
  {
   "cell_type": "markdown",
   "metadata": {},
   "source": [
    "## Plot mean and std errors for different values of alpha"
   ]
  },
  {
   "cell_type": "code",
   "execution_count": null,
   "metadata": {},
   "outputs": [],
   "source": [
    "sns.set(font_scale=1.7)\n",
    "sns.set_palette(\"deep\")\n",
    "\n",
    "fsave = 'Plots/Alpha_MCMC_Glauber_Const_Beta_4_2_longer'\n",
    "plot_error([exps_M.get_stats(\"min_energy_errors\"), \n",
    "            exps_G.get_stats(\"min_energy_errors\")], x_axis_vector=alphas,\n",
    "           xlabel=\"alpha\", legend=[\"Min energy error (Metropolis)\", \n",
    "                                   \"Min energy error (Glauber)\"], fsave=fsave)\n",
    "\n",
    "fpickle = 'alpha_beta_4M_2G_longer'\n",
    "dump_alpha_comparison( exps_G, exps_M, fpickle)"
   ]
  },
  {
   "cell_type": "markdown",
   "metadata": {},
   "source": [
    "## Compare final sample error against min energy sample error"
   ]
  },
  {
   "cell_type": "code",
   "execution_count": null,
   "metadata": {},
   "outputs": [],
   "source": [
    "fsave = 'Plots/Glauber_Beta_2_Min_Energy_Final_Error_longer'\n",
    "plot_error([exps_G.get_stats(\"min_energy_errors\"),\n",
    "            exps_G.get_stats(\"final_errors\"),], x_axis_vector=alphas,\n",
    "           xlabel=\"alpha\", legend=[\"Min energy error (Glauber)\",\n",
    "                                   \"Final error (Glauber)\"], fsave=fsave)\n",
    "\n",
    "fsave = 'Plots/Metropolis_Beta_4_Min_Energy_Final_Error_longer'\n",
    "plot_error([exps_M.get_stats(\"min_energy_errors\"),\n",
    "            exps_M.get_stats(\"final_errors\"),], x_axis_vector=alphas,\n",
    "           xlabel=\"alpha\", legend=[\"Min energy error (Metropolis)\",\n",
    "                                   \"Final error (Metropolis)\"], fsave=fsave)\n",
    "\n"
   ]
  },
  {
   "cell_type": "markdown",
   "metadata": {},
   "source": [
    "# Glauber (constant beta: 2.0) vs Metropolis (logarithmic beta), N=100000 steps"
   ]
  },
  {
   "cell_type": "code",
   "execution_count": null,
   "metadata": {},
   "outputs": [],
   "source": [
    "# Min. energy error for a few different alphas.\n",
    "n = [100]\n",
    "alphas = np.linspace(0.05, 2, 32)\n",
    "N = 100000\n",
    "n_exp = 10\n",
    "\n",
    "t_start = 2.0\n",
    "t_freeze = 0.15\n",
    "log_mul_schedule = LogarithmicMultiplicativeSchedule( T_start=t_start , T_freeze=t_freeze , alpha=6.00)\n",
    "schedule = log_mul_schedule\n",
    "b_v = schedule.get_schedule(N)\n",
    "\n",
    "exps_M1 = MultiExperiments(n, alphas, N, b_v,  n_exp, MCMC.metropolis )\n",
    "\n",
    "beta_0 = 2.0\n",
    "schedule_G = ConstantSchedule(beta_0)\n",
    "b_v_G = schedule_G.get_schedule(N)\n",
    "\n",
    "exps_G1 = MultiExperiments(n, alphas, N, b_v_G,  n_exp, MCMC.glauber )\n",
    "\n"
   ]
  },
  {
   "cell_type": "markdown",
   "metadata": {},
   "source": [
    "## Plot mean and std errors for different values of alpha"
   ]
  },
  {
   "cell_type": "code",
   "execution_count": null,
   "metadata": {},
   "outputs": [],
   "source": [
    "fsave = 'Plots/Alpha_MCMC_Glauber_Log_Const_Beta_2'\n",
    "plot_error([exps_M1.get_stats(\"min_energy_errors\"), \n",
    "            exps_G1.get_stats(\"min_energy_errors\")], x_axis_vector=alphas,\n",
    "           xlabel=\"alpha\", legend=[\"Min energy error (Metropolis)\", \n",
    "                                   \"Min energy error (Glauber)\"], fsave=fsave)\n",
    "\n",
    "fpickle = 'alpha_beta_logM_2G'\n",
    "dump_alpha_comparison( exps_G1, exps_M1, fpickle)"
   ]
  },
  {
   "cell_type": "markdown",
   "metadata": {},
   "source": [
    "## Compare Glauber (constant beta: 2.0),  Metropolis (constant beta: 4.0),  Metropolis (logarithmic beta), N=100000 steps "
   ]
  },
  {
   "cell_type": "code",
   "execution_count": null,
   "metadata": {},
   "outputs": [],
   "source": [
    "fsave = 'Plots/Alpha_MCMC_4_Glauber_2_MCMC_Log'\n",
    "plot_error([exps_M.get_stats(\"min_energy_errors\"), \n",
    "            exps_G1.get_stats(\"min_energy_errors\"),\n",
    "           exps_M1.get_stats(\"min_energy_errors\")], x_axis_vector=alphas,\n",
    "           xlabel=\"alpha\", legend=[\"Min energy error (Metropolis-Beta-4)\", \n",
    "                                   \"Min energy error (Glauber-Beta-2)\",\n",
    "                                   \"Min energy error (Metropolis-Log)\"], fsave=fsave)\n",
    "\n",
    "fpickle = 'alpha_MCMC_4_Glauber_2_MCMC_Log'\n",
    "\n",
    "save_object = defaultdict(defaultdict)\n",
    "save_object['exp_G'] = exps_G1\n",
    "save_object['exp_M1'] = exps_M\n",
    "save_object['exp_M2'] = exps_M1\n",
    "\n",
    "    \n",
    "file_handler = open(\"%s.pkl\" %(fpickle),\"wb\")\n",
    "cPickle.dump(save_object,file_handler)\n",
    "file_handler.close()\n"
   ]
  },
  {
   "cell_type": "markdown",
   "metadata": {},
   "source": [
    "# Plotting error trend over time"
   ]
  },
  {
   "cell_type": "code",
   "execution_count": null,
   "metadata": {},
   "outputs": [],
   "source": [
    "def plot_error_trend(e_vectors, title=\"\", legend=[],\n",
    "               xlabel=\"Time\", fsave=' '):\n",
    "    \"\"\"Plots error over time (or the values in x_axis_vector). Inputs are\n",
    "    lists of vectors to allow comparisons.\"\"\"\n",
    "    \n",
    "    if not legend:\n",
    "        legend = [\" \"] * len(e_vectors)\n",
    "    plt.figure(figsize=(24,8))\n",
    "    plt.hlines([0.1, 0.2, 0.3, 0.4, 0.5],0, len(e_vectors[0]),\n",
    "               linestyles=\"--\", color=\"lightgray\")\n",
    "    for i, e_vector in enumerate(e_vectors):\n",
    "        plt.plot( np.arange(len(e_vector)), e_vector, label=legend[i])\n",
    "    plt.legend(loc='upper right')\n",
    "    plt.title(title)\n",
    "    plt.xlabel(xlabel)\n",
    "    plt.ylabel(\"Error\")\n",
    "    plt.ylim(-0.05, 0.75)\n",
    "    if len(fsave) > 0:\n",
    "        plt.savefig(fsave + '.pdf')\n",
    "        \n",
    "def get_error_vectors_legend( exp, indx_low, indx_high ):\n",
    "    legends = []\n",
    "    e_vectors = []\n",
    "    for indx in range( indx_low, indx_high ):\n",
    "        alpha = exp.parameters[indx][1]\n",
    "        legends.append( 'Alpha %.3f' %(alpha))\n",
    "        e_vectors.append( exp.experiments[indx][0].e_v )\n",
    "    return e_vectors, legends\n",
    "\n",
    "\n",
    "fpickle = 'alpha_MCMC_4_Glauber_2_MCMC_Log'\n",
    "file = open(\"%s.pkl\" %(fpickle),\"rb\")\n",
    "save_object = cPickle.load(file)\n",
    "exps_G = save_object['exp_G']\n",
    "exps_M = save_object['exp_M1']\n",
    "exps_M1 = save_object['exp_M2']\n",
    "file.close()\n",
    "\n",
    "e_vectors, legends = get_error_vectors_legend( exps_M1, indx_low=12, indx_high=18 )\n",
    "title='Error trend for different values of alpha for Metropolis with logarithmic schedule'\n",
    "fsave='Plots/Metropolis_log_error_trend'\n",
    "plot_error_trend(e_vectors, title=title, legend=legends, fsave=fsave)\n",
    "\n",
    "\n",
    "e_vectors, legends = get_error_vectors_legend( exps_M, indx_low=12, indx_high=18 )\n",
    "title='Error trend for different values of alpha for Metropolis with constant cooling schedule'\n",
    "fsave='Plots/Metropolis_beta_4_error_trend'\n",
    "plot_error_trend(e_vectors, title=title, legend=legends, fsave=fsave)\n",
    "\n",
    "e_vectors, legends = get_error_vectors_legend( exps_G, indx_low=12, indx_high=18 )\n",
    "title='Error trend for different values of alpha for Glauber with constant cooling schedule'\n",
    "fsave='Plots/Glauber_beta_2_error_trend'\n",
    "plot_error_trend(e_vectors, title=title, legend=legends, fsave=fsave)"
   ]
  },
  {
   "cell_type": "markdown",
   "metadata": {},
   "source": [
    "## Plotting error trend for Metropolis (constant beta, logartihmic) and Glauber on same graph"
   ]
  },
  {
   "cell_type": "code",
   "execution_count": null,
   "metadata": {},
   "outputs": [],
   "source": [
    "\n",
    "e_vectors_m1, legends_m1 = get_error_vectors_legend( exps_M1, indx_low=12, indx_high=18 )\n",
    "e_vectors_m, legends_m = get_error_vectors_legend( exps_M, indx_low=12, indx_high=18 )\n",
    "e_vectors_g, legends_g = get_error_vectors_legend( exps_G, indx_low=12, indx_high=18 )\n",
    "\n",
    "e_vectors = [e_vectors_m1[0], e_vectors_m[0], e_vectors_g[0], e_vectors_m1[-1], e_vectors_m[-1], e_vectors_g[-1]]\n",
    "legends = [ 'Metropolis-log ' + legends_m1[0],\n",
    "            'Metropolis-beta-4 ' + legends_m[0],\n",
    "            'Glauber-beta-2 ' + legends_m[0],\n",
    "            'Metropolis-log ' + legends_m1[-1],\n",
    "            'Metropolis-beta-4 ' + legends_m[-1],\n",
    "            'Glauber-beta-2 ' + legends_m[-1],\n",
    "          ]\n",
    "title='Error trend for different values of alpha for Glauber with constant cooling schedule'\n",
    "fsave='Plots/Error_trend_MCMC_log_MCMC_4_Glauber_2'\n",
    "plot_error_trend(e_vectors, title=title, legend=legends, fsave=fsave)"
   ]
  },
  {
   "cell_type": "code",
   "execution_count": null,
   "metadata": {},
   "outputs": [],
   "source": []
  }
 ],
 "metadata": {
  "kernelspec": {
   "display_name": "Python 3",
   "language": "python",
   "name": "python3"
  },
  "language_info": {
   "codemirror_mode": {
    "name": "ipython",
    "version": 3
   },
   "file_extension": ".py",
   "mimetype": "text/x-python",
   "name": "python",
   "nbconvert_exporter": "python",
   "pygments_lexer": "ipython3",
   "version": "3.6.5"
  }
 },
 "nbformat": 4,
 "nbformat_minor": 2
}
